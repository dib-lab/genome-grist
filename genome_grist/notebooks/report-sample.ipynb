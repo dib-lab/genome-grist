{
 "cells": [
  {
   "cell_type": "code",
   "execution_count": null,
   "metadata": {},
   "outputs": [],
   "source": [
    "%matplotlib inline\n",
    "import pylab\n",
    "import pandas as pd"
   ]
  },
  {
   "cell_type": "code",
   "execution_count": null,
   "metadata": {
    "tags": [
     "parameters"
    ]
   },
   "outputs": [],
   "source": [
    "sample_id='SRR1976948'\n",
    "#sample_id = 'p8808mo9'\n",
    "#sample_id = 'p8808mo11'\n",
    "outdir = 'outputs'\n"
   ]
  },
  {
   "cell_type": "code",
   "execution_count": null,
   "metadata": {},
   "outputs": [],
   "source": [
    "from IPython.display import Markdown as md\n",
    "from IPython.display import display\n",
    "md(f\"# genome-grist report for metagenome `{sample_id}`\")"
   ]
  },
  {
   "cell_type": "markdown",
   "metadata": {},
   "source": [
    "## load mapping summary CSVs and gather CSV"
   ]
  },
  {
   "cell_type": "code",
   "execution_count": null,
   "metadata": {},
   "outputs": [],
   "source": [
    "\n",
    "# load mapping CSVs\n",
    "all_df = pd.read_csv(f'../../{outdir}/minimap/depth/{sample_id}.summary.csv')\n",
    "left_df = pd.read_csv(f'../../{outdir}/leftover/depth/{sample_id}.summary.csv')\n",
    "\n",
    "# load gather CSV\n",
    "gather_df = pd.read_csv(f'../../{outdir}/genbank/{sample_id}.x.genbank.gather.csv')\n",
    "\n",
    "# names!\n",
    "names_df = pd.read_csv(f'../../{outdir}/genbank/{sample_id}.genomes.info.csv')\n",
    "\n",
    "# connect gather_df to all_df and left_df using 'genome_id'\n",
    "def fix_name(x):\n",
    "    return \"_\".join(x.split('_')[:2]).split('.')[0]\n",
    "\n",
    "gather_df['genome_id'] = gather_df['name'].apply(fix_name)\n",
    "names_df['genome_id'] = names_df['acc'].apply(fix_name)"
   ]
  },
  {
   "cell_type": "code",
   "execution_count": null,
   "metadata": {},
   "outputs": [],
   "source": [
    "# CTB bug FIXME\n",
    "# this ensures that only rows that share genome_id are in all the dataframes\n",
    "in_gather = set(gather_df.genome_id)\n",
    "in_left = set(left_df.genome_id)\n",
    "\n",
    "in_both = in_left.intersection(in_gather)\n",
    "\n",
    "all_df = all_df[all_df.genome_id.isin(in_both)]\n",
    "left_df = left_df[left_df.genome_id.isin(in_both)]\n",
    "gather_df = gather_df[gather_df.genome_id.isin(in_both)]\n",
    "names_df = names_df[names_df.genome_id.isin(in_both)]\n",
    "\n",
    "# reassign index now that we've maybe dropped rows\n",
    "all_df.index = range(len(all_df))\n",
    "left_df.index = range(len(left_df))\n",
    "gather_df.index = range(len(gather_df))\n",
    "names_df.index = range(len(names_df))\n",
    "\n",
    "assert len(all_df) == len(gather_df)\n",
    "assert len(left_df) == len(gather_df)\n",
    "assert len(names_df) == len(gather_df)"
   ]
  },
  {
   "cell_type": "code",
   "execution_count": null,
   "metadata": {},
   "outputs": [],
   "source": [
    "# re-sort left_df and all_df to match gather_df order, using matching genome_id column\n",
    "all_df.set_index(\"genome_id\")\n",
    "all_df.reindex(index=gather_df[\"genome_id\"])\n",
    "all_df.reset_index()\n",
    "\n",
    "left_df.set_index(\"genome_id\")\n",
    "left_df.reindex(index=gather_df[\"genome_id\"])\n",
    "left_df.reset_index()\n",
    "\n",
    "#left_df[\"mapped_bp\"] = (1 - left_df[\"percent missed\"]/100) * left_df[\"genome bp\"]\n",
    "#left_df[\"unique_mapped_coverage\"] = left_df.coverage / (1 - left_df[\"percent missed\"] / 100.0)\n",
    "\n",
    "names_df.set_index(\"genome_id\")\n",
    "names_df.reindex(index=gather_df[\"genome_id\"])\n",
    "names_df.reset_index()\n",
    "\n",
    "None\n",
    "#names_df[:3]"
   ]
  },
  {
   "cell_type": "code",
   "execution_count": null,
   "metadata": {},
   "outputs": [],
   "source": [
    "#left_df[:5]"
   ]
  },
  {
   "cell_type": "code",
   "execution_count": null,
   "metadata": {},
   "outputs": [],
   "source": [
    "#gather_df[:5]"
   ]
  },
  {
   "cell_type": "code",
   "execution_count": null,
   "metadata": {},
   "outputs": [],
   "source": [
    "# subsample? take top 60...\n",
    "\n",
    "NUM=60\n",
    "\n",
    "left_df = left_df[:NUM]\n",
    "all_df = all_df[:NUM]\n",
    "gather_df = gather_df[:NUM]\n",
    "names_df = names_df[:NUM]"
   ]
  },
  {
   "cell_type": "markdown",
   "metadata": {},
   "source": [
    "## fig 1: examining leftover reads, in order of gather"
   ]
  },
  {
   "cell_type": "code",
   "execution_count": null,
   "metadata": {},
   "outputs": [],
   "source": [
    "pylab.figure(num=None, figsize=(8, 6))\n",
    "pylab.plot(gather_df[\"f_match\"]* 100, 100 - left_df[\"percent missed\"], '.')\n",
    "\n",
    "pylab.xlim(0, 100)\n",
    "pylab.ylim(0, 100)\n",
    "pylab.xlabel('f_match')\n",
    "pylab.ylabel('mapping bp covered')\n",
    "pylab.title('gather f_match vs leftover mapping bp covered')\n",
    "pylab.plot([0, 100], [0, 100], '--')"
   ]
  },
  {
   "cell_type": "markdown",
   "metadata": {},
   "source": [
    "## fig 2: fraction of hashes unique to query, in order of gather results"
   ]
  },
  {
   "cell_type": "code",
   "execution_count": null,
   "metadata": {},
   "outputs": [],
   "source": [
    "pylab.figure(num=None, figsize=(8, 6))\n",
    "pylab.plot(gather_df.index, gather_df[\"f_unique_to_query\"]*100, '.')\n",
    "\n",
    "pylab.title('fraction of hashes unique to query')\n",
    "pylab.xlabel('gather rank order')\n",
    "pylab.ylabel('f_unique_to_query, as %')"
   ]
  },
  {
   "cell_type": "markdown",
   "metadata": {},
   "source": [
    "## fig 4: sum mapped bp and sum identified hashes, in order of gather\n",
    "\n",
    "conclusion: across the gather run, total hashes identified correlate well with total bp mapped"
   ]
  },
  {
   "cell_type": "code",
   "execution_count": null,
   "metadata": {},
   "outputs": [],
   "source": [
    "pylab.figure(num=None, figsize=(8, 6))\n",
    "pylab.plot(left_df.index, left_df[\"covered_bp\"].cumsum(), '-', label='total mapped bp')\n",
    "pylab.plot(gather_df.index, gather_df[\"unique_intersect_bp\"].cumsum(), '.', label='total classified hashes')\n",
    "\n",
    "pylab.xlabel('genome in rank order of gather')\n",
    "pylab.legend(loc='upper right')\n",
    "pylab.title(f'{sample_id}: gather remaining hashes vs remaining bp')\n"
   ]
  },
  {
   "cell_type": "markdown",
   "metadata": {},
   "source": [
    "## fig 5: mapped bp and identified hashes compared by sample, in order of gather\n",
    "\n",
    "conclusion: for most samples, bp mapped to that genome matches # of hashes classified to that genome\n",
    "\n",
    "note: hashes classified to this genome is monotonically decreasing, b/c gather is a greedy algorithm."
   ]
  },
  {
   "cell_type": "code",
   "execution_count": null,
   "metadata": {},
   "outputs": [],
   "source": [
    "pylab.figure(num=None, figsize=(10, 10))\n",
    "\n",
    "pylab.plot(left_df.covered_bp / 1e6, left_df.iloc[::-1].index, 'b.', label='mapped bp to this genome')\n",
    "pylab.plot(gather_df.intersect_bp / 1e6, gather_df.iloc[::-1].index, 'gx', label='hashes classified to this species')\n",
    "pylab.plot(gather_df.unique_intersect_bp / 1e6, gather_df.iloc[::-1].index, 'ro', label='hashes classified for this genome')\n",
    "\n",
    "positions = list(gather_df.index)\n",
    "labels = list(reversed(names_df.ncbi_tax_name))\n",
    "pylab.yticks(positions, labels, fontsize='small')\n",
    "\n",
    "pylab.xlabel('number (millions)')\n",
    "pylab.legend(loc='lower right')\n",
    "pylab.title(f'{sample_id}: gather hashes vs mapped bp')\n",
    "pylab.tight_layout()\n",
    "\n"
   ]
  },
  {
   "cell_type": "markdown",
   "metadata": {},
   "source": [
    "## fig 6: difference between hashes ident and bp mapped"
   ]
  },
  {
   "cell_type": "code",
   "execution_count": null,
   "metadata": {},
   "outputs": [],
   "source": [
    "pylab.figure(num=None, figsize=(8, 6))\n",
    "pylab.plot(gather_df.index, gather_df.unique_intersect_bp.cumsum() - left_df.covered_bp.cumsum(), '.-')\n",
    "\n",
    "pylab.xlabel('genome (ordered by gather results)')\n",
    "pylab.ylabel('difference: hashcount - mapped bp')"
   ]
  },
  {
   "cell_type": "markdown",
   "metadata": {},
   "source": [
    "## fig 7: difference between hashes and bp, per sample"
   ]
  },
  {
   "cell_type": "code",
   "execution_count": null,
   "metadata": {},
   "outputs": [],
   "source": [
    "pylab.figure(num=None, figsize=(10, 10))\n",
    "\n",
    "pylab.plot(left_df.covered_bp / 1e6, left_df.iloc[::-1].index, 'b.', label='covered bp in this genome')\n",
    "pylab.plot(gather_df.intersect_bp / 1e6, gather_df.iloc[::-1].index, 'gx', label='hashes classified to this species')\n",
    "pylab.plot(gather_df.unique_intersect_bp / 1e6, gather_df.iloc[::-1].index, 'ro', label='hashes classified for this genome')\n",
    "\n",
    "pylab.plot((gather_df.unique_intersect_bp - left_df.covered_bp) / 1e6, gather_df.iloc[::-1].index, \n",
    "           '.-', label='difference b/t hashes and covered bp')\n",
    "\n",
    "positions = list(gather_df.index)\n",
    "labels = list(reversed(names_df.ncbi_tax_name))\n",
    "pylab.yticks(positions, labels, fontsize='small')\n",
    "\n",
    "#pylab.ylabel('genome (ordered by gather results)')\n",
    "pylab.xlabel('number per genome (million)')\n",
    "pylab.legend(loc='lower right')\n",
    "pylab.title(f'{sample_id}: gather hashes vs mapped bp')\n",
    "pylab.tight_layout()"
   ]
  },
  {
   "cell_type": "markdown",
   "metadata": {},
   "source": [
    "## fig 8: correlation between hash abundance and mapping rates"
   ]
  },
  {
   "cell_type": "code",
   "execution_count": null,
   "metadata": {},
   "outputs": [],
   "source": [
    "pylab.figure(num=None, figsize=(8, 6))\n",
    "pylab.plot(left_df.unique_mapped_coverage, gather_df.median_abund, 'ro')\n",
    "max_x = max(left_df.unique_mapped_coverage)\n",
    "max_y = max(gather_df.median_abund)\n",
    "pylab.plot([0, max_x], [0, max_y * 186/270], '--', label=\"1:0.69 line\")\n",
    "pylab.xlabel('unique mapping abundance (gathered reads only)')\n",
    "pylab.ylabel('median abundance of gathered hashes')\n",
    "pylab.title(f'{sample_id}: gather f_match vs leftover mapping bp covered')\n",
    "pylab.legend(loc='lower right')"
   ]
  },
  {
   "cell_type": "markdown",
   "metadata": {},
   "source": [
    "## fig 9: fraction of genome covered by mapping"
   ]
  },
  {
   "cell_type": "code",
   "execution_count": null,
   "metadata": {},
   "outputs": [],
   "source": [
    "pylab.figure(num=None, figsize=(10, 10))\n",
    "\n",
    "pylab.plot(left_df.covered_bp / left_df[\"genome bp\"] * 100, left_df.iloc[::-1].index, 'bo', label='mapped bp to this genome')\n",
    "pylab.plot(all_df.covered_bp / all_df[\"genome bp\"] * 100, left_df.iloc[::-1].index, 'r.', label='mapped bp to this genome')\n",
    "\n",
    "pylab.plot(((all_df.covered_bp - left_df.covered_bp) / all_df[\"genome bp\"]) * 100, left_df.iloc[::-1].index, 'b-', label='diff')\n",
    "\n",
    "#pylab.plot(gather_df.intersect_bp / left_df[\"genome bp\"] * 100, gather_df.iloc[::-1].index, 'gx', label='hashes classified to this species')\n",
    "#pylab.plot(gather_df.unique_intersect_bp / left_df[\"genome bp\"] * 100, gather_df.iloc[::-1].index, 'ro', label='hashes classified for this genome')\n",
    "\n",
    "positions = list(gather_df.index)\n",
    "labels = list(reversed(names_df.ncbi_tax_name))\n",
    "pylab.yticks(positions, labels, fontsize='small')\n",
    "\n",
    "pylab.xlabel('percent genome covered by reads')\n",
    "pylab.legend(loc='lower right')\n",
    "pylab.title(f'{sample_id}: mapped bp, all & leftover')\n",
    "pylab.tight_layout()"
   ]
  },
  {
   "cell_type": "markdown",
   "metadata": {},
   "source": [
    "## fig 10: fraction of genome covered by hashes"
   ]
  },
  {
   "cell_type": "code",
   "execution_count": null,
   "metadata": {},
   "outputs": [],
   "source": [
    "pylab.figure(num=None, figsize=(10, 10))\n",
    "\n",
    "#pylab.plot(left_df.covered_bp / left_df[\"genome bp\"] * 100, left_df.iloc[::-1].index, 'bo') #, label='mapped bp to this genome')\n",
    "#pylab.plot(all_df.covered_bp / all_df[\"genome bp\"] * 100, left_df.iloc[::-1].index, 'r.') #, label='mapped bp to this genome')\n",
    "\n",
    "pylab.plot(gather_df.intersect_bp / left_df[\"genome bp\"] * 100, gather_df.iloc[::-1].index, 'bo', label='hashes classified to this species')\n",
    "pylab.plot(gather_df.unique_intersect_bp / left_df[\"genome bp\"] * 100, gather_df.iloc[::-1].index, 'r.', label='hashes classified for this genome')\n",
    "\n",
    "pylab.plot((gather_df.intersect_bp - gather_df.unique_intersect_bp) / left_df[\"genome bp\"] * 100, gather_df.iloc[::-1].index, 'b-', label='hashes classified for this genome')\n",
    "\n",
    "positions = list(gather_df.index)\n",
    "labels = list(reversed(names_df.ncbi_tax_name))\n",
    "pylab.yticks(positions, labels, fontsize='small')\n",
    "\n",
    "pylab.xlabel('percent genome covered by reads')\n",
    "pylab.legend(loc='lower right')\n",
    "pylab.title(f'{sample_id}: unique vs all hashes')\n",
    "pylab.tight_layout()\n",
    "\n",
    "pylab.savefig(f'/tmp/gather-{sample_id}.pdf')"
   ]
  },
  {
   "cell_type": "code",
   "execution_count": null,
   "metadata": {},
   "outputs": [],
   "source": []
  }
 ],
 "metadata": {
  "kernelspec": {
   "display_name": "Python (myenv)",
   "language": "python",
   "name": "myenv"
  },
  "language_info": {
   "codemirror_mode": {
    "name": "ipython",
    "version": 3
   },
   "file_extension": ".py",
   "mimetype": "text/x-python",
   "name": "python",
   "nbconvert_exporter": "python",
   "pygments_lexer": "ipython3",
   "version": "3.7.6"
  }
 },
 "nbformat": 4,
 "nbformat_minor": 4
}

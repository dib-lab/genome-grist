{
 "cells": [
  {
   "cell_type": "code",
   "execution_count": null,
   "metadata": {},
   "outputs": [],
   "source": [
    "%matplotlib inline\n",
    "import pylab\n",
    "import pandas as pd"
   ]
  },
  {
   "cell_type": "code",
   "execution_count": null,
   "metadata": {
    "tags": [
     "parameters"
    ]
   },
   "outputs": [],
   "source": [
    "#sample_id='SRR606249'\n",
    "#sample_id = 'p8808mo9'\n",
    "sample_id = 'podar'\n",
    "outdir = 'outputs.private'\n"
   ]
  },
  {
   "cell_type": "code",
   "execution_count": null,
   "metadata": {},
   "outputs": [],
   "source": [
    "from IPython.display import Markdown as md\n",
    "from IPython.display import display\n",
    "md(f\"# genome-grist report for metagenome `{sample_id}`\")"
   ]
  },
  {
   "cell_type": "markdown",
   "metadata": {},
   "source": [
    "## load mapping summary CSVs and gather CSV"
   ]
  },
  {
   "cell_type": "code",
   "execution_count": null,
   "metadata": {},
   "outputs": [],
   "source": [
    "\n",
    "# load mapping CSVs\n",
    "all_df = pd.read_csv(f'../../{outdir}/mapping/{sample_id}.summary.csv')\n",
    "left_df = pd.read_csv(f'../../{outdir}/leftover/{sample_id}.summary.csv')\n",
    "\n",
    "# load gather CSV\n",
    "gather_df = pd.read_csv(f'../../{outdir}/gather/{sample_id}.gather.csv')\n",
    "\n",
    "# names!\n",
    "names_df = pd.read_csv(f'../../{outdir}/gather/{sample_id}.genomes.info.csv')\n",
    "\n",
    "# connect gather_df to all_df and left_df using 'genome_id'\n",
    "def fix_name(x):\n",
    "    # pick off first whitespace-delimited name as identifier\n",
    "    x = x.split()[0]\n",
    "    \n",
    "    # eliminate stuff after the period, too.\n",
    "    x = x.split('.')[0]\n",
    "    \n",
    "    return x\n",
    "    #return \"_\".join(x.split('_')[:2]).split('.')[0]\n",
    "\n",
    "\n",
    "gather_df['genome_id'] = gather_df['name'].apply(fix_name)\n",
    "names_df['genome_id'] = names_df['ident'].apply(fix_name)"
   ]
  },
  {
   "cell_type": "code",
   "execution_count": null,
   "metadata": {},
   "outputs": [],
   "source": [
    "# CTB bug FIXME\n",
    "# this ensures that only rows that share genome_id are in all the dataframes\n",
    "in_gather = set(gather_df.genome_id)\n",
    "in_left = set(left_df.genome_id)\n",
    "\n",
    "in_both = in_left.intersection(in_gather)\n",
    "\n",
    "all_df = all_df[all_df.genome_id.isin(in_both)]\n",
    "left_df = left_df[left_df.genome_id.isin(in_both)]\n",
    "gather_df = gather_df[gather_df.genome_id.isin(in_both)]\n",
    "names_df = names_df[names_df.genome_id.isin(in_both)]\n",
    "\n",
    "# reassign index now that we've maybe dropped rows\n",
    "all_df.index = range(len(all_df))\n",
    "left_df.index = range(len(left_df))\n",
    "gather_df.index = range(len(gather_df))\n",
    "names_df.index = range(len(names_df))\n",
    "\n",
    "assert len(all_df) == len(gather_df)\n",
    "assert len(left_df) == len(gather_df)\n",
    "assert len(names_df) == len(gather_df)"
   ]
  },
  {
   "cell_type": "code",
   "execution_count": null,
   "metadata": {},
   "outputs": [],
   "source": [
    "# re-sort left_df and all_df to match gather_df order, using matching genome_id column\n",
    "all_df = all_df.set_index(\"genome_id\")\n",
    "all_df = all_df.reindex(index=gather_df[\"genome_id\"])\n",
    "all_df = all_df.reset_index()\n",
    "\n",
    "left_df = left_df.set_index(\"genome_id\")\n",
    "left_df = left_df.reindex(index=gather_df[\"genome_id\"])\n",
    "left_df = left_df.reset_index()\n",
    "\n",
    "#left_df[\"mapped_bp\"] = (1 - left_df[\"percent missed\"]/100) * left_df[\"genome bp\"]\n",
    "#left_df[\"unique_mapped_coverage\"] = left_df.coverage / (1 - left_df[\"percent missed\"] / 100.0)\n",
    "\n",
    "names_df = names_df.set_index(\"genome_id\")\n",
    "names_df = names_df.reindex(index=gather_df[\"genome_id\"])\n",
    "names_df = names_df.reset_index()\n",
    "\n",
    "None\n",
    "#names_df[:3]"
   ]
  },
  {
   "cell_type": "code",
   "execution_count": null,
   "metadata": {},
   "outputs": [],
   "source": [
    "#left_df[:5]"
   ]
  },
  {
   "cell_type": "code",
   "execution_count": null,
   "metadata": {},
   "outputs": [],
   "source": [
    "#gather_df[:5]"
   ]
  },
  {
   "cell_type": "code",
   "execution_count": null,
   "metadata": {},
   "outputs": [],
   "source": [
    "# subsample? take top 60...\n",
    "\n",
    "NUM=60\n",
    "\n",
    "left_df = left_df[:NUM]\n",
    "all_df = all_df[:NUM]\n",
    "gather_df = gather_df[:NUM]\n",
    "names_df = names_df[:NUM]"
   ]
  },
  {
   "cell_type": "markdown",
   "metadata": {},
   "source": [
    "## fig 1: examining leftover reads, in order of gather"
   ]
  },
  {
   "cell_type": "code",
   "execution_count": null,
   "metadata": {},
   "outputs": [],
   "source": [
    "pylab.figure(num=None, figsize=(8, 6))\n",
    "pylab.plot(gather_df[\"f_match\"]* 100, 100 - left_df[\"percent missed\"], '.')\n",
    "\n",
    "pylab.xlim(0, 100)\n",
    "pylab.ylim(0, 100)\n",
    "pylab.xlabel('f_match')\n",
    "pylab.ylabel('mapping bp covered')\n",
    "pylab.title('gather f_match vs leftover mapping bp covered')\n",
    "pylab.plot([0, 100], [0, 100], '--')"
   ]
  },
  {
   "cell_type": "markdown",
   "metadata": {},
   "source": [
    "## fig 2: fraction of hashes unique to query, in order of gather results"
   ]
  },
  {
   "cell_type": "code",
   "execution_count": null,
   "metadata": {},
   "outputs": [],
   "source": [
    "pylab.figure(num=None, figsize=(8, 6))\n",
    "pylab.plot(gather_df.index, gather_df[\"f_unique_to_query\"]*100, '.')\n",
    "\n",
    "pylab.title('fraction of hashes unique to query')\n",
    "pylab.xlabel('gather rank order')\n",
    "pylab.ylabel('f_unique_to_query, as %')"
   ]
  },
  {
   "cell_type": "markdown",
   "metadata": {},
   "source": [
    "## fig 4: sum mapped bp and sum identified hashes, in order of gather\n",
    "\n",
    "conclusion: across the gather run, total hashes identified correlate well with total bp mapped"
   ]
  },
  {
   "cell_type": "code",
   "execution_count": null,
   "metadata": {},
   "outputs": [],
   "source": [
    "pylab.figure(num=None, figsize=(8, 6))\n",
    "pylab.plot(left_df.index, left_df[\"covered_bp\"].cumsum(), '-', label='total mapped bp')\n",
    "pylab.plot(gather_df.index, gather_df[\"unique_intersect_bp\"].cumsum(), '.', label='total classified hashes')\n",
    "\n",
    "pylab.xlabel('genome in rank order of gather')\n",
    "pylab.legend(loc='upper right')\n",
    "pylab.title(f'{sample_id}: gather remaining hashes vs remaining bp')\n"
   ]
  },
  {
   "cell_type": "markdown",
   "metadata": {},
   "source": [
    "## fig 5: mapped bp and identified hashes compared by sample, in order of gather\n",
    "\n",
    "conclusion: for most samples, bp mapped to that genome matches # of hashes classified to that genome\n",
    "\n",
    "note: hashes classified to this genome is monotonically decreasing, b/c gather is a greedy algorithm."
   ]
  },
  {
   "cell_type": "code",
   "execution_count": null,
   "metadata": {},
   "outputs": [],
   "source": [
    "pylab.figure(num=None, figsize=(10, 10))\n",
    "\n",
    "pylab.plot(left_df.covered_bp / 1e6, left_df.iloc[::-1].index, 'b.', label='mapped bp to this genome')\n",
    "pylab.plot(gather_df.intersect_bp / 1e6, gather_df.iloc[::-1].index, 'gx', label='hashes classified to this species')\n",
    "pylab.plot(gather_df.unique_intersect_bp / 1e6, gather_df.iloc[::-1].index, 'ro', label='hashes classified for this genome')\n",
    "\n",
    "positions = list(gather_df.index)\n",
    "labels = list(reversed(names_df.display_name))\n",
    "pylab.yticks(positions, labels, fontsize='small')\n",
    "\n",
    "pylab.xlabel('number (millions)')\n",
    "pylab.legend(loc='lower right')\n",
    "pylab.title(f'{sample_id}: gather hashes vs mapped bp')\n",
    "pylab.tight_layout()\n",
    "\n"
   ]
  },
  {
   "cell_type": "markdown",
   "metadata": {},
   "source": [
    "## fig 6: difference between hashes ident and bp mapped"
   ]
  },
  {
   "cell_type": "code",
   "execution_count": null,
   "metadata": {},
   "outputs": [],
   "source": [
    "pylab.figure(num=None, figsize=(8, 6))\n",
    "pylab.plot(gather_df.index, gather_df.unique_intersect_bp.cumsum() - left_df.covered_bp.cumsum(), '.-')\n",
    "\n",
    "pylab.xlabel('genome (ordered by gather results)')\n",
    "pylab.ylabel('difference: hashcount - mapped bp')"
   ]
  },
  {
   "cell_type": "markdown",
   "metadata": {},
   "source": [
    "## fig 7: difference between hashes and bp, per sample"
   ]
  },
  {
   "cell_type": "code",
   "execution_count": null,
   "metadata": {},
   "outputs": [],
   "source": [
    "pylab.figure(num=None, figsize=(10, 10))\n",
    "\n",
    "pylab.plot(left_df.covered_bp / 1e6, left_df.iloc[::-1].index, 'b.', label='covered bp in this genome')\n",
    "pylab.plot(gather_df.intersect_bp / 1e6, gather_df.iloc[::-1].index, 'gx', label='hashes classified to this species')\n",
    "pylab.plot(gather_df.unique_intersect_bp / 1e6, gather_df.iloc[::-1].index, 'ro', label='hashes classified for this genome')\n",
    "\n",
    "pylab.plot((gather_df.unique_intersect_bp - left_df.covered_bp) / 1e6, gather_df.iloc[::-1].index, \n",
    "           '.-', label='difference b/t hashes and covered bp')\n",
    "\n",
    "positions = list(gather_df.index)\n",
    "labels = list(reversed(names_df.display_name))\n",
    "pylab.yticks(positions, labels, fontsize='small')\n",
    "\n",
    "#pylab.ylabel('genome (ordered by gather results)')\n",
    "pylab.xlabel('number per genome (million)')\n",
    "pylab.legend(loc='lower right')\n",
    "pylab.title(f'{sample_id}: gather hashes vs mapped bp')\n",
    "pylab.tight_layout()"
   ]
  },
  {
   "cell_type": "markdown",
   "metadata": {},
   "source": [
    "## fig 8: correlation between hashes and mapping rates"
   ]
  },
  {
   "cell_type": "code",
   "execution_count": null,
   "metadata": {},
   "outputs": [],
   "source": [
    "pylab.figure(num=None, figsize=(8, 6))\n",
    "pylab.plot(left_df.unique_mapped_coverage, gather_df.median_abund, 'ro')\n",
    "max_x = max(left_df.unique_mapped_coverage)\n",
    "max_y = max(gather_df.median_abund)\n",
    "pylab.plot([0, max_x], [0, max_y * 186/270], '--', label=\"1:0.69 line\")\n",
    "pylab.xlabel('unique mapping abundance (gathered reads only)')\n",
    "pylab.ylabel('median abundance of gathered hashes')\n",
    "pylab.title(f'{sample_id}: gather f_match vs leftover mapping bp covered')\n",
    "pylab.legend(loc='lower right')"
   ]
  },
  {
   "cell_type": "markdown",
   "metadata": {},
   "source": [
    "## fig 9: percentage of each genome covered by mapped reads"
   ]
  },
  {
   "cell_type": "code",
   "execution_count": null,
   "metadata": {},
   "outputs": [],
   "source": [
    "pylab.figure(num=None, figsize=(10, 8))\n",
    "\n",
    "left_df['f_covered'] = left_df['covered_bp'] / left_df['genome bp']\n",
    "pylab.plot(left_df.f_covered * 100, left_df.iloc[::-1].index, 'b.', label='% genome covered')\n",
    "#pylab.plot(gather_df.intersect_bp / 1e6, gather_df.iloc[::-1].index, 'gx', label='hashes classified to this species')\n",
    "#pylab.plot(gather_df.unique_intersect_bp / 1e6, gather_df.iloc[::-1].index, 'ro', label='hashes classified for this genome')\n",
    "\n",
    "positions = list(gather_df.index)\n",
    "labels = list(reversed(names_df.display_name))\n",
    "pylab.yticks(positions, labels, fontsize='small')\n",
    "\n",
    "pylab.xlabel('percentage')\n",
    "pylab.legend(loc='lower right')\n",
    "pylab.title(f'{sample_id}: % of each genome covered by mapped reads')\n",
    "pylab.axis(xmin=0, xmax=100)\n",
    "pylab.grid(True)\n",
    "pylab.tight_layout()"
   ]
  },
  {
   "cell_type": "markdown",
   "metadata": {},
   "source": [
    "## fig 10: per-genome coverage estimates from mapped reads"
   ]
  },
  {
   "cell_type": "code",
   "execution_count": null,
   "metadata": {},
   "outputs": [],
   "source": [
    "pylab.figure(num=None, figsize=(10, 8))\n",
    "\n",
    "pylab.plot(left_df.unique_mapped_coverage, left_df.iloc[::-1].index, 'b.', label='% genome covered')\n",
    "#pylab.plot(gather_df.intersect_bp / 1e6, gather_df.iloc[::-1].index, 'gx', label='hashes classified to this species')\n",
    "#pylab.plot(gather_df.unique_intersect_bp / 1e6, gather_df.iloc[::-1].index, 'ro', label='hashes classified for this genome')\n",
    "\n",
    "positions = list(gather_df.index)\n",
    "labels = list(reversed(names_df.display_name))\n",
    "pylab.yticks(positions, labels, fontsize='small')\n",
    "\n",
    "pylab.xlabel('mapping coverage')\n",
    "pylab.legend(loc='lower right')\n",
    "pylab.title(f'{sample_id}: coverage of uniquely mapped bases')\n",
    "#pylab.axis(xmin=0)\n",
    "pylab.grid(True)\n",
    "pylab.grid(True, which=\"both\", ls=\"-\", color='0.65')\n",
    "pylab.xscale('log')\n",
    "pylab.tight_layout()"
   ]
  },
  {
   "cell_type": "markdown",
   "metadata": {},
   "source": [
    "## fig 11: per-genome number of variants in metagenome\n",
    "\n",
    "(called against uniquely mapped portions of reference genomes)"
   ]
  },
  {
   "cell_type": "code",
   "execution_count": null,
   "metadata": {},
   "outputs": [],
   "source": [
    "pylab.figure(num=None, figsize=(10, 8))\n",
    "\n",
    "pylab.plot(left_df.n_snps * 1e6 / left_df['covered_bp'],\n",
    "           left_df.iloc[::-1].index, 'b.', label='estimated number of SNPs per Mbp')\n",
    "\n",
    "positions = list(gather_df.index)\n",
    "labels = list(reversed(names_df.display_name))\n",
    "pylab.yticks(positions, labels, fontsize='small')\n",
    "\n",
    "pylab.xlabel('number of SNPs')\n",
    "pylab.legend(loc='lower right')\n",
    "pylab.title(f'{sample_id}: estimated number of distinct SNPs per Mbp')\n",
    "pylab.grid(True)\n",
    "pylab.tight_layout()\n",
    "pylab.savefig(f'/tmp/snps-{sample_id}.pdf')\n",
    "pylab.savefig(f'/tmp/snps-{sample_id}.png')"
   ]
  },
  {
   "cell_type": "code",
   "execution_count": null,
   "metadata": {},
   "outputs": [],
   "source": [
    "pylab.figure(num=None, figsize=(10, 8))\n",
    "\n",
    "pylab.plot(left_df.n_snps,\n",
    "           left_df.iloc[::-1].index, 'b.', label='estimated number of total SNPs')\n",
    "\n",
    "positions = list(gather_df.index)\n",
    "labels = list(reversed(names_df.display_name))\n",
    "pylab.yticks(positions, labels, fontsize='small')\n",
    "\n",
    "pylab.xlabel('number of SNPs')\n",
    "pylab.legend(loc='lower right')\n",
    "pylab.title(f'{sample_id}: estimated number of distinct SNPs (total)')\n",
    "pylab.grid(True)\n",
    "pylab.tight_layout()\n",
    "pylab.savefig(f'/tmp/snps-{sample_id}.pdf')\n",
    "pylab.savefig(f'/tmp/snps-{sample_id}.png')"
   ]
  },
  {
   "cell_type": "code",
   "execution_count": null,
   "metadata": {},
   "outputs": [],
   "source": []
  }
 ],
 "metadata": {
  "kernelspec": {
   "display_name": "Python (myenv)",
   "language": "python",
   "name": "myenv"
  },
  "language_info": {
   "codemirror_mode": {
    "name": "ipython",
    "version": 3
   },
   "file_extension": ".py",
   "mimetype": "text/x-python",
   "name": "python",
   "nbconvert_exporter": "python",
   "pygments_lexer": "ipython3",
   "version": "3.7.6"
  }
 },
 "nbformat": 4,
 "nbformat_minor": 4
}
